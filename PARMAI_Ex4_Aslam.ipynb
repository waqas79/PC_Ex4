{
 "cells": [
  {
   "cell_type": "code",
   "execution_count": 1,
   "id": "450371c4-0290-4571-adc2-8aee08fce264",
   "metadata": {},
   "outputs": [],
   "source": [
    "# Student Name: Muhammad Waqas Aslam\n",
    "# ID: 775131"
   ]
  },
  {
   "cell_type": "markdown",
   "id": "64628d0f-b2af-43e6-ba68-71b24aa6058c",
   "metadata": {},
   "source": [
    "# Task 1: Hello World"
   ]
  },
  {
   "cell_type": "code",
   "execution_count": 2,
   "id": "370f030c-c864-477c-87e2-41e894487d02",
   "metadata": {},
   "outputs": [],
   "source": [
    "HelloWorld = \"\"\"#include <mpi.h>\n",
    "#include <iostream>\n",
    "\n",
    "int main(int argc, char** argv) {\n",
    "    MPI_Init(&argc, &argv);  // Initialize MPI\n",
    "\n",
    "    int world_rank;\n",
    "    int world_size;\n",
    "\n",
    "    MPI_Comm_rank(MPI_COMM_WORLD, &world_rank);  // Get process rank\n",
    "    MPI_Comm_size(MPI_COMM_WORLD, &world_size);  // Get number of processes\n",
    "\n",
    "    std::cout << \"Hello from process \" << world_rank << \" out of \" << world_size << \" processes.\" << std::endl;\n",
    "\n",
    "    MPI_Finalize();  // Finalize MPI\n",
    "    return 0;\n",
    "}\n",
    "\"\"\""
   ]
  },
  {
   "cell_type": "code",
   "execution_count": 5,
   "id": "2021f2ea-6f23-416a-a75a-e0b40c7a0d75",
   "metadata": {},
   "outputs": [
    {
     "name": "stdout",
     "output_type": "stream",
     "text": [
      "Hello from process 1 out of 2 processes.\n",
      "Hello from process 0 out of 2 processes.\n"
     ]
    }
   ],
   "source": [
    "cpp_file = open(\"HelloWorld.cpp\", \"w\")\n",
    "cpp_file.write(HelloWorld)\n",
    "cpp_file.close()\n",
    "\n",
    "!mpic++ HelloWorld.cpp -o HelloWorld\n",
    "!mpirun -np 2 ./HelloWorld"
   ]
  },
  {
   "cell_type": "markdown",
   "id": "5bd168f1-7359-4086-824d-d3ac7f9f3837",
   "metadata": {},
   "source": [
    "# Task 2: Ping-Pong"
   ]
  },
  {
   "cell_type": "code",
   "execution_count": null,
   "id": "2a56ee50-89a5-4863-ab2c-4d19c1f56a76",
   "metadata": {},
   "outputs": [],
   "source": [
    "PingPong = \"\"\"#include <mpi.h>\n",
    "#include <iostream>\n",
    "\n",
    "int main(int argc, char** argv) {\n",
    "    // TO-DO\n",
    "    return 0;\n",
    "}\n",
    "\"\"\""
   ]
  },
  {
   "cell_type": "code",
   "execution_count": null,
   "id": "e2797cf6-2f50-4f95-8390-a17fc1433489",
   "metadata": {},
   "outputs": [],
   "source": [
    "cpp_file = open(\"PingPong.cpp\", \"w\")\n",
    "cpp_file.write(PingPong)\n",
    "cpp_file.close()\n",
    "\n",
    "!mpic++ PingPong.cpp -o PingPong\n",
    "!mpirun -np 2 ./PingPong"
   ]
  },
  {
   "cell_type": "markdown",
   "id": "df964f90-ee0b-4ba1-9081-e0618bb9e6d9",
   "metadata": {},
   "source": [
    "# Task 3: Collective Communication"
   ]
  },
  {
   "cell_type": "code",
   "execution_count": null,
   "id": "6f77597b-8540-4994-8f67-4a8991ce78cc",
   "metadata": {},
   "outputs": [],
   "source": []
  },
  {
   "cell_type": "markdown",
   "id": "60f6c24f-45ed-4298-9075-fd590d50fb48",
   "metadata": {},
   "source": [
    "# Task 4: Matrix Multiplication"
   ]
  },
  {
   "cell_type": "code",
   "execution_count": null,
   "id": "b5d27049-94d1-4fdb-a973-a3697e96e39e",
   "metadata": {},
   "outputs": [],
   "source": []
  },
  {
   "cell_type": "markdown",
   "id": "22851d14-83bb-4d25-b91d-98faf3d408ce",
   "metadata": {},
   "source": [
    "# Task 5: Distributed Search"
   ]
  },
  {
   "cell_type": "code",
   "execution_count": null,
   "id": "68fe6346-cc0f-410b-8d7c-e242bfa1943d",
   "metadata": {},
   "outputs": [],
   "source": []
  },
  {
   "cell_type": "markdown",
   "id": "f9567c6f-5915-4f08-a30f-870b1e997b07",
   "metadata": {},
   "source": [
    "# Task 6: Extension"
   ]
  },
  {
   "cell_type": "code",
   "execution_count": null,
   "id": "601d1a07-e0b6-4096-babe-e45f7a28bec4",
   "metadata": {},
   "outputs": [],
   "source": []
  }
 ],
 "metadata": {
  "kernelspec": {
   "display_name": "venv",
   "language": "python",
   "name": "python3"
  },
  "language_info": {
   "codemirror_mode": {
    "name": "ipython",
    "version": 3
   },
   "file_extension": ".py",
   "mimetype": "text/x-python",
   "name": "python",
   "nbconvert_exporter": "python",
   "pygments_lexer": "ipython3",
   "version": "3.12.3"
  }
 },
 "nbformat": 4,
 "nbformat_minor": 5
}
